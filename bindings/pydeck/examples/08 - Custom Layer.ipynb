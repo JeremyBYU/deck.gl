{
 "cells": [
  {
   "cell_type": "code",
   "execution_count": 3,
   "id": "ed4b646d",
   "metadata": {},
   "outputs": [
    {
     "data": {
      "application/vnd.jupyter.widget-view+json": {
       "model_id": "7adf2d14e4234e5da3c356cb5e6ec676",
       "version_major": 2,
       "version_minor": 0
      },
      "text/plain": [
       "DeckGLWidget(carto_key=None, custom_libraries=[{'libraryName': 'SelectionLayerLibrary', 'resourceUri': 'http:/…"
      ]
     },
     "metadata": {},
     "output_type": "display_data"
    }
   ],
   "source": [
    "import pydeck as pdk\n",
    "from ipywidgets import HTML, Output\n",
    "\n",
    "pdk.settings.custom_libraries = [\n",
    "    {\n",
    "        \"libraryName\": \"SelectionLayerLibrary\",\n",
    "        \"resourceUri\": \"http://localhost:8000/dist/bundle.js\",\n",
    "    }\n",
    "]\n",
    "\n",
    "UK_ACCIDENTS_DATA = 'https://raw.githubusercontent.com/visgl/deck.gl-data/master/examples/3d-heatmap/heatmap-data.csv'\n",
    "\n",
    "layer = pdk.Layer(\n",
    "    'HexagonLayer',  # `type` positional argument is here\n",
    "    UK_ACCIDENTS_DATA,\n",
    "    id='accidents',\n",
    "    get_position=['lng', 'lat'],\n",
    "    auto_highlight=True,\n",
    "    elevation_scale=50,\n",
    "    pickable=True,\n",
    "    elevation_range=[0, 3000],\n",
    "    extruded=True,\n",
    "    coverage=1)\n",
    "\n",
    "selection = pdk.Layer(\n",
    "    'SelectionLayer',  # `type` positional argument is here\n",
    "    id='selection',\n",
    "    on_select=\"(info) => deckHandleEvent('deck-on-select-event', info)\",\n",
    "    layer_Ids=[pdk.types.String(\"accidents\")],\n",
    "#     on_select=\"console.log('hey you!')\",\n",
    "    selection_type=pdk.types.String(\"rectangle\"))\n",
    "\n",
    "# Set the viewport location\n",
    "view_state = pdk.ViewState(\n",
    "    longitude=-1.415,\n",
    "    latitude=52.2323,\n",
    "    zoom=6,\n",
    "    min_zoom=5,\n",
    "    max_zoom=15,\n",
    "    pitch=40.5,\n",
    "    bearing=-27.36)\n",
    "\n",
    "\n",
    "r = pdk.Deck(layers=[layer, selection], initial_view_state=view_state)\n",
    "\n",
    "\n",
    "r.show()\n"
   ]
  },
  {
   "cell_type": "markdown",
   "id": "00d94919",
   "metadata": {},
   "source": [
    "## Using Custom Extension\n",
    "\n",
    "- Execute the Cell below\n",
    "- Go back to the map above, HOLD DOWN the 'r' key, make a rectanguar selection on a small set of items.\n",
    "- You should see ouput of the data below!"
   ]
  },
  {
   "cell_type": "code",
   "execution_count": 4,
   "id": "a1274e6b",
   "metadata": {},
   "outputs": [
    {
     "data": {
      "application/vnd.jupyter.widget-view+json": {
       "model_id": "3cb8205193934de6956c9148c3b4a345",
       "version_major": 2,
       "version_minor": 0
      },
      "text/plain": [
       "Output()"
      ]
     },
     "metadata": {},
     "output_type": "display_data"
    }
   ],
   "source": [
    "output2 = Output()\n",
    "def on_select(widget_instance, payload):\n",
    "    output2.clear_output()\n",
    "    with output2:\n",
    "        print(payload)\n",
    "r.deck_widget.on_select(on_select)\n",
    "display(output2)"
   ]
  }
 ],
 "metadata": {
  "kernelspec": {
   "display_name": "Python 3 (ipykernel)",
   "language": "python",
   "name": "python3"
  },
  "language_info": {
   "codemirror_mode": {
    "name": "ipython",
    "version": 3
   },
   "file_extension": ".py",
   "mimetype": "text/x-python",
   "name": "python",
   "nbconvert_exporter": "python",
   "pygments_lexer": "ipython3",
   "version": "3.10.6"
  }
 },
 "nbformat": 4,
 "nbformat_minor": 5
}
